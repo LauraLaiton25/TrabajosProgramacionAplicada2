{
  "nbformat": 4,
  "nbformat_minor": 0,
  "metadata": {
    "kernelspec": {
      "display_name": "Python 3",
      "language": "python",
      "name": "python3"
    },
    "language_info": {
      "codemirror_mode": {
        "name": "ipython",
        "version": 3
      },
      "file_extension": ".py",
      "mimetype": "text/x-python",
      "name": "python",
      "nbconvert_exporter": "python",
      "pygments_lexer": "ipython3",
      "version": "3.7.4"
    },
    "colab": {
      "name": "PA_00_jupyter_markdown_python.ipynb",
      "provenance": [],
      "include_colab_link": true
    }
  },
  "cells": [
    {
      "cell_type": "markdown",
      "metadata": {
        "id": "view-in-github",
        "colab_type": "text"
      },
      "source": [
        "<a href=\"https://colab.research.google.com/github/LauraLaiton25/TrabajosProgramacionAplicada2/blob/main/PA_00_jupyter_markdown_python.ipynb\" target=\"_parent\"><img src=\"https://colab.research.google.com/assets/colab-badge.svg\" alt=\"Open In Colab\"/></a>"
      ]
    },
    {
      "cell_type": "markdown",
      "metadata": {
        "id": "0ydCmiWpRwMY"
      },
      "source": [
        "# Universidad Distrital F. J. C.\n",
        "## Facultad De Ingeniería\n",
        "### Programación Aplicada\n",
        "#### Gerardo Muñoz\n",
        "gmunoz@udistrital.edu.co"
      ]
    },
    {
      "cell_type": "markdown",
      "metadata": {
        "id": "XrcV3toiRwMe"
      },
      "source": [
        "<!-- De acuerdo con lo que veo en Condor:\n",
        "*\tEl 35% del primer corte ya está definido.\n",
        "*\tEl 30% del laboratorio lo asigna el profesor de la práctica.\n",
        "*\tEl 35% de la nota del curso se propone definir de la siguiente manera:\n",
        "  *\t20% Participación en clase en el chat de Discord.\n",
        "  *\t15% Examen.\n",
        "  \n",
        "La participación se realiza haciendo un aporte al tema expuesto en la clase. Por ejemplo:\n",
        "*\tPuede dar un ejemplo del tema visto donde se produzca un error y como se corrige. Si varios estudiantes tienen el mismo error en el mismo tema, tienen menor nota.\n",
        "*\tPueden complementar la presentación del profesor con opciones o variaciones que no fueron explicadas de alguna función explicada en clase. (En Python abundan estas opciones)\n",
        "*\tSi se indica en la clase, puede modificar la aplicación presentada.\n",
        "*\tOtra opción que sea pertinente.\n",
        "\n",
        "Se espera un mínimo de una participación pertinente por cada clase de febrero para sacar 5.0. \n",
        "\n",
        "En estos momentos estoy configurando un servidor en Discord con los chats, para realizar las participaciones en clase. \n",
        "\n",
        "A cualquier hora pueden escribirme al correo gmunoz@udistrital.edu.co. Usualmente respondo en las primeras 24 horas. -->"
      ]
    },
    {
      "cell_type": "markdown",
      "metadata": {
        "id": "uNZCopdgRwMg"
      },
      "source": [
        "# Introducción al curso de Programación Aplicada\n"
      ]
    },
    {
      "cell_type": "markdown",
      "metadata": {
        "id": "lbbqpQhmRwMh"
      },
      "source": [
        "# Jupyter\n",
        "\n",
        "Un cuaderno de Jupyter tiene celdas de **texto** y celdas de **código**. En la nube vamos a usar:\n",
        "\n",
        "http://colab.research.google.com/notebooks/intro.ipynb\n",
        "\n",
        "También es posible instalar Jupyter en su computador cuando se instala Python. \n",
        "\n",
        "Las celdas de texto usan el formato Markdown. "
      ]
    },
    {
      "cell_type": "markdown",
      "metadata": {
        "id": "MwodlJa-RwMi"
      },
      "source": [
        "### Ejercicio\n",
        "1. Abrir un cuaderno de Jupyter en Google Colab.\n",
        "2. Escribir una operación en la celda de código. `1 + 1`\n",
        "3. Ejecutar la operación con el triángulo de la izquierda.\n",
        "4. Crear una nueva celda de texto.\n",
        "5. Escribir en la nueva celda el título `# Título`.\n",
        "6. Crear otra celda, pero de código.\n",
        "7. Escribir en esta otra celda la operación `0/0`.\n",
        "8. Ejecutar esta otra celda."
      ]
    },
    {
      "cell_type": "code",
      "metadata": {
        "colab": {
          "base_uri": "https://localhost:8080/"
        },
        "id": "sbdE3L3oRwMi",
        "outputId": "2229e157-78df-46b1-e574-97bfc429c9c4"
      },
      "source": [
        "1+1"
      ],
      "execution_count": 195,
      "outputs": [
        {
          "output_type": "execute_result",
          "data": {
            "text/plain": [
              "2"
            ]
          },
          "metadata": {},
          "execution_count": 195
        }
      ]
    },
    {
      "cell_type": "markdown",
      "metadata": {
        "id": "JcnwdmUhRwMk"
      },
      "source": [
        "# Título"
      ]
    },
    {
      "cell_type": "code",
      "metadata": {
        "id": "PSrWB7A_RwMk"
      },
      "source": [
        "#0/0"
      ],
      "execution_count": 196,
      "outputs": []
    },
    {
      "cell_type": "code",
      "metadata": {
        "id": "C8PStNTBRwMl"
      },
      "source": [
        "#0=0"
      ],
      "execution_count": 197,
      "outputs": []
    },
    {
      "cell_type": "code",
      "metadata": {
        "id": "EMnA__iJRwMl"
      },
      "source": [
        "#*0"
      ],
      "execution_count": 198,
      "outputs": []
    },
    {
      "cell_type": "markdown",
      "metadata": {
        "id": "wNrnFiUBRwMm"
      },
      "source": [
        "# Markdown\n",
        "\n",
        "\n",
        "En Markdown se pueden colocar diferentes niveles de subtítulos como los siguientes:\n",
        "\n",
        "## Título 2\n",
        "###### Título 6\n",
        "\n",
        "También se puede usar letra *itálica* y se puede escribir _también así_. De manera análoga se define la letra **negrilla** __de dos formas__\n",
        "\n",
        "\n",
        "Se pueden colocar viñetas de diferentes niveles\n",
        "* Nivel 1 ítem a\n",
        "  * Nivel 2 ítem b \n",
        "  * Nivel 2 ítem c \n",
        "* Nivel 1 ítem d\n",
        "  * Nivel 2 ítem e \n",
        "    * Nivel 3 ítem f \n",
        "\n",
        "Al igual que  listas numeradas    \n",
        "1. Nivel 1 ítem a\n",
        "  1. Nivel 2 ítem b \n",
        "  1. Nivel 2 ítem c \n",
        "1. Nivel 1 ítem d\n",
        "  1. Nivel 2 ítem e \n",
        "    1. Nivel 3 ítem f \n",
        "\n",
        "\n",
        "También es posible colocar `código`, En particular vamos a ver el código que generó esta sección.\n",
        "\n",
        "```\n",
        "En Markdown se pueden colocar diferentes niveles de subtítulos como los siguientes:\n",
        "\n",
        "## Título 2\n",
        "###### Título 6\n",
        "\n",
        "También se puede usar letra *itálica* y se puede escribir _también así_. De manera análoga se define la letra **negrilla** __de dos formas__\n",
        "\n",
        "\n",
        "Se pueden colocar viñetas de diferentes niveles\n",
        "* Nivel 1 ítem a\n",
        "  * Nivel 2 ítem b \n",
        "  * Nivel 2 ítem c \n",
        "* Nivel 1 ítem d\n",
        "  * Nivel 2 ítem e \n",
        "    * Nivel 3 ítem f \n",
        "\n",
        "Al igual que listas numeradas    \n",
        "1. Nivel 1 ítem a\n",
        "  1. Nivel 2 ítem b \n",
        "  1. Nivel 2 ítem c \n",
        "1. Nivel 1 ítem d\n",
        "  1. Nivel 2 ítem e \n",
        "    1. Nivel 3 ítem f \n",
        "```"
      ]
    },
    {
      "cell_type": "markdown",
      "metadata": {
        "id": "2aL40d4TRwMm"
      },
      "source": [
        "# Introducción\n",
        "\n",
        "## ¿Por qué usar Python?\n",
        "\n",
        "* Lenguaje sencillo y fácil de entender\n",
        "* Tiene librerías poderosas:\n",
        "  *  `numpy` para procesamiento de arreglos \n",
        "  *  `matplotlib` para graficar\n",
        "  *  `scikit-learn` para aprendizaje por máquinas\n",
        "  *  `keras` para aprendizaje profundo\n",
        "  *  `opencv` para procesamiento de imágenes\n",
        "  *  `sympy` para procesamiento simbólico\n",
        "  *  `flask` y `django` para desarrollo Web.\n",
        "  *  entre muchas otras.\n",
        "* Usado en tarjetas para IoT\n",
        "\n",
        "## ¿Cuáles características tiene Python?\n",
        "* Interpretado, no compilado \n",
        "* Abundancia de documentación y tutoriales. Además, cuenta con la función `help(...)`.     \n",
        "* Muy eficiente en el desarrollo de prototipos. \n",
        "* Programas extensos requieren herramientas adicionales para depurar.\n"
      ]
    },
    {
      "cell_type": "markdown",
      "metadata": {
        "id": "yYsD_FoPRwMn"
      },
      "source": [
        "# Python\n",
        "\n",
        "\n",
        "## Tipos numéricos\n",
        "### `int`. Ejemplos: `0`, `1`, `-2`.\n",
        "### `float`. Ejemplos: `0.0`, `1.0`, `-2.0`, `3.14`, `0.05`, `3.08e-5`,`-5e4`.\n",
        "### Operaciones: `+`, `-`, `*`,`**` , `/`, `//`, `%` "
      ]
    },
    {
      "cell_type": "code",
      "metadata": {
        "colab": {
          "base_uri": "https://localhost:8080/"
        },
        "id": "hgu9OJvMRwMo",
        "outputId": "3178cf0d-152b-4eac-9237-a6289a0c05ab"
      },
      "source": [
        "2**3"
      ],
      "execution_count": 199,
      "outputs": [
        {
          "output_type": "execute_result",
          "data": {
            "text/plain": [
              "8"
            ]
          },
          "metadata": {},
          "execution_count": 199
        }
      ]
    },
    {
      "cell_type": "code",
      "metadata": {
        "colab": {
          "base_uri": "https://localhost:8080/"
        },
        "id": "UocRnW_TRwMo",
        "outputId": "0978fcd3-402c-4d55-f0f9-6c453dffc072"
      },
      "source": [
        "13//4"
      ],
      "execution_count": 200,
      "outputs": [
        {
          "output_type": "execute_result",
          "data": {
            "text/plain": [
              "3"
            ]
          },
          "metadata": {},
          "execution_count": 200
        }
      ]
    },
    {
      "cell_type": "code",
      "metadata": {
        "colab": {
          "base_uri": "https://localhost:8080/"
        },
        "id": "TreQITihRwMp",
        "outputId": "75dcfdfa-c13b-41bf-e9aa-24810c8d2a80"
      },
      "source": [
        "13%4"
      ],
      "execution_count": 201,
      "outputs": [
        {
          "output_type": "execute_result",
          "data": {
            "text/plain": [
              "1"
            ]
          },
          "metadata": {},
          "execution_count": 201
        }
      ]
    },
    {
      "cell_type": "markdown",
      "metadata": {
        "id": "8CXzoaPGRwMq"
      },
      "source": [
        "### `bool`: `True`, `False`.\n",
        "### Comparadores: `<`,`>`,`<=`,`>=`,`==`,`!=`"
      ]
    },
    {
      "cell_type": "code",
      "metadata": {
        "colab": {
          "base_uri": "https://localhost:8080/"
        },
        "id": "5uQgw4HgRwMr",
        "outputId": "8e16b930-da46-4883-a553-e72a7450953c"
      },
      "source": [
        "1<1"
      ],
      "execution_count": 202,
      "outputs": [
        {
          "output_type": "execute_result",
          "data": {
            "text/plain": [
              "False"
            ]
          },
          "metadata": {},
          "execution_count": 202
        }
      ]
    },
    {
      "cell_type": "code",
      "metadata": {
        "colab": {
          "base_uri": "https://localhost:8080/"
        },
        "id": "cnONkemnRwMr",
        "outputId": "1d2b1402-3bf4-462f-aaf2-29a6eb804248"
      },
      "source": [
        "1<=1"
      ],
      "execution_count": 203,
      "outputs": [
        {
          "output_type": "execute_result",
          "data": {
            "text/plain": [
              "True"
            ]
          },
          "metadata": {},
          "execution_count": 203
        }
      ]
    },
    {
      "cell_type": "code",
      "metadata": {
        "colab": {
          "base_uri": "https://localhost:8080/"
        },
        "id": "2HKFFAh5RwMs",
        "outputId": "eb239657-6873-465f-8154-4b4fa3135a50"
      },
      "source": [
        "1==1"
      ],
      "execution_count": 204,
      "outputs": [
        {
          "output_type": "execute_result",
          "data": {
            "text/plain": [
              "True"
            ]
          },
          "metadata": {},
          "execution_count": 204
        }
      ]
    },
    {
      "cell_type": "code",
      "metadata": {
        "colab": {
          "base_uri": "https://localhost:8080/"
        },
        "id": "vRMoegRmRwMs",
        "outputId": "d85f56a6-c1ac-471c-e304-bbdb0eb39fb9"
      },
      "source": [
        "1!=1"
      ],
      "execution_count": 205,
      "outputs": [
        {
          "output_type": "execute_result",
          "data": {
            "text/plain": [
              "False"
            ]
          },
          "metadata": {},
          "execution_count": 205
        }
      ]
    },
    {
      "cell_type": "markdown",
      "metadata": {
        "id": "W6RXep2RRwMs"
      },
      "source": [
        "### Operaciones: `and`,`or`,`not`"
      ]
    },
    {
      "cell_type": "code",
      "metadata": {
        "colab": {
          "base_uri": "https://localhost:8080/"
        },
        "id": "nfMGC7BcRwMt",
        "outputId": "7c67f2d0-72e4-402f-adb9-9f71b4a91489"
      },
      "source": [
        "1<2 and 2<1"
      ],
      "execution_count": 206,
      "outputs": [
        {
          "output_type": "execute_result",
          "data": {
            "text/plain": [
              "False"
            ]
          },
          "metadata": {},
          "execution_count": 206
        }
      ]
    },
    {
      "cell_type": "code",
      "metadata": {
        "colab": {
          "base_uri": "https://localhost:8080/"
        },
        "id": "r5LUB_plRwMt",
        "outputId": "e1c390a8-623e-4084-dd24-084919a732f6"
      },
      "source": [
        "1<2 or 2<1"
      ],
      "execution_count": 207,
      "outputs": [
        {
          "output_type": "execute_result",
          "data": {
            "text/plain": [
              "True"
            ]
          },
          "metadata": {},
          "execution_count": 207
        }
      ]
    },
    {
      "cell_type": "code",
      "metadata": {
        "colab": {
          "base_uri": "https://localhost:8080/"
        },
        "id": "EXKJf19nRwMt",
        "outputId": "232e0d82-5cb6-4d20-d3f0-d78a6327aecc"
      },
      "source": [
        "1<2 and not(2<1)"
      ],
      "execution_count": 208,
      "outputs": [
        {
          "output_type": "execute_result",
          "data": {
            "text/plain": [
              "True"
            ]
          },
          "metadata": {},
          "execution_count": 208
        }
      ]
    },
    {
      "cell_type": "markdown",
      "metadata": {
        "id": "eWGmX-ebRwMt"
      },
      "source": [
        "### Algunas funciones incorporadas de Python: `abs(x)`, `max(x,y)`, `min(x,y)`, `pow(x,y)`, `round(x,n)`"
      ]
    },
    {
      "cell_type": "code",
      "metadata": {
        "colab": {
          "base_uri": "https://localhost:8080/"
        },
        "id": "toZVWlu7RwMu",
        "outputId": "8183e15f-53b2-43c2-ed5c-182336b40361"
      },
      "source": [
        "max(3,6,2)"
      ],
      "execution_count": 209,
      "outputs": [
        {
          "output_type": "execute_result",
          "data": {
            "text/plain": [
              "6"
            ]
          },
          "metadata": {},
          "execution_count": 209
        }
      ]
    },
    {
      "cell_type": "markdown",
      "metadata": {
        "id": "6cp6NJf-RwMu"
      },
      "source": [
        "## Variables"
      ]
    },
    {
      "cell_type": "code",
      "metadata": {
        "colab": {
          "base_uri": "https://localhost:8080/"
        },
        "id": "JPrVmTjuRwMu",
        "outputId": "53ebff95-9fdf-4b82-a8f4-cc077e12bedc"
      },
      "source": [
        "a=5\n",
        "a"
      ],
      "execution_count": 210,
      "outputs": [
        {
          "output_type": "execute_result",
          "data": {
            "text/plain": [
              "5"
            ]
          },
          "metadata": {},
          "execution_count": 210
        }
      ]
    },
    {
      "cell_type": "code",
      "metadata": {
        "colab": {
          "base_uri": "https://localhost:8080/"
        },
        "id": "nxHNDIS3RwMu",
        "outputId": "42d69f38-451c-4372-dbed-788d37028faf"
      },
      "source": [
        "b=6\n",
        "b"
      ],
      "execution_count": 211,
      "outputs": [
        {
          "output_type": "execute_result",
          "data": {
            "text/plain": [
              "6"
            ]
          },
          "metadata": {},
          "execution_count": 211
        }
      ]
    },
    {
      "cell_type": "code",
      "metadata": {
        "colab": {
          "base_uri": "https://localhost:8080/"
        },
        "id": "1VfeK4s2RwMv",
        "outputId": "2c19ffce-32db-4f4a-bbfb-6bf54ebdd6ab"
      },
      "source": [
        "b>a"
      ],
      "execution_count": 212,
      "outputs": [
        {
          "output_type": "execute_result",
          "data": {
            "text/plain": [
              "True"
            ]
          },
          "metadata": {},
          "execution_count": 212
        }
      ]
    },
    {
      "cell_type": "code",
      "metadata": {
        "colab": {
          "base_uri": "https://localhost:8080/"
        },
        "id": "zGXBttMiRwMv",
        "outputId": "6eb9ab3c-5dc2-435e-f3e3-f5ac57c2c74d"
      },
      "source": [
        "c = b>a\n",
        "c"
      ],
      "execution_count": 213,
      "outputs": [
        {
          "output_type": "execute_result",
          "data": {
            "text/plain": [
              "True"
            ]
          },
          "metadata": {},
          "execution_count": 213
        }
      ]
    },
    {
      "cell_type": "code",
      "metadata": {
        "colab": {
          "base_uri": "https://localhost:8080/"
        },
        "id": "jtAXyK_yRwMv",
        "outputId": "434e1de4-464d-4487-bf5b-fcfcf676a842"
      },
      "source": [
        "numero_de_estrellas_en_el_universo = 1000000000000000000000 + 1\n",
        "numero_de_estrellas_en_el_universo"
      ],
      "execution_count": 214,
      "outputs": [
        {
          "output_type": "execute_result",
          "data": {
            "text/plain": [
              "1000000000000000000001"
            ]
          },
          "metadata": {},
          "execution_count": 214
        }
      ]
    },
    {
      "cell_type": "markdown",
      "metadata": {
        "id": "20kK1rm9RwMw"
      },
      "source": [
        "##  `def`\n",
        "Se utiliza para definir funciones"
      ]
    },
    {
      "cell_type": "code",
      "metadata": {
        "colab": {
          "base_uri": "https://localhost:8080/"
        },
        "id": "bqSd2j8yRwMw",
        "outputId": "b3e72a54-adff-4762-a3fd-e7ac68b23ca7"
      },
      "source": [
        "def conv_automoviles_y_ciclas_en_ruedas(numero_de_automoviles,numero_de_ciclas):\n",
        "    numero_de_ruedas = numero_de_automoviles * 4 + numero_de_ciclas * 2\n",
        "    return numero_de_ruedas\n",
        "\n",
        "conv_automoviles_y_ciclas_en_ruedas(3,6)"
      ],
      "execution_count": 215,
      "outputs": [
        {
          "output_type": "execute_result",
          "data": {
            "text/plain": [
              "24"
            ]
          },
          "metadata": {},
          "execution_count": 215
        }
      ]
    },
    {
      "cell_type": "code",
      "metadata": {
        "colab": {
          "base_uri": "https://localhost:8080/"
        },
        "id": "g52llZ1PRwMw",
        "outputId": "de26bce9-45de-4845-e398-59a0a01ac57e"
      },
      "source": [
        "conv_automoviles_y_ciclas_en_ruedas(1,0)"
      ],
      "execution_count": 216,
      "outputs": [
        {
          "output_type": "execute_result",
          "data": {
            "text/plain": [
              "4"
            ]
          },
          "metadata": {},
          "execution_count": 216
        }
      ]
    },
    {
      "cell_type": "markdown",
      "metadata": {
        "id": "2kSrrcr2RwMx"
      },
      "source": [
        "## `if`, `elif`, `else`"
      ]
    },
    {
      "cell_type": "markdown",
      "metadata": {
        "id": "Q8qnyF2cRwMx"
      },
      "source": [
        "\n",
        "Aunque Python tiene definida la función de valor absoluto. Se va a definir nuevamente como un ejemplo, algo explícito, de `if`.\n",
        "\n",
        "$abs(a)=\\left\\{\\matrix{a & \\text{ si } a > 0 \\\\0 & \\text{ si } a = 0 \\\\ -a & \\text{ si } a < 0  }\\right.$"
      ]
    },
    {
      "cell_type": "code",
      "metadata": {
        "id": "1ZsoMw-gRwMx"
      },
      "source": [
        "def valor_absoluto(a):\n",
        "    if a>0:\n",
        "        return a\n",
        "    elif a == 0:\n",
        "        return 0\n",
        "    else:\n",
        "        return -a"
      ],
      "execution_count": 217,
      "outputs": []
    },
    {
      "cell_type": "code",
      "metadata": {
        "colab": {
          "base_uri": "https://localhost:8080/"
        },
        "id": "CXOQR_f2RwMx",
        "outputId": "651a6f9a-65d4-4f3a-a630-702f2922f096"
      },
      "source": [
        "valor_absoluto(5.3)"
      ],
      "execution_count": 218,
      "outputs": [
        {
          "output_type": "execute_result",
          "data": {
            "text/plain": [
              "5.3"
            ]
          },
          "metadata": {},
          "execution_count": 218
        }
      ]
    },
    {
      "cell_type": "code",
      "metadata": {
        "colab": {
          "base_uri": "https://localhost:8080/"
        },
        "id": "hxiI6Hw7RwMy",
        "outputId": "589a83e4-0311-4846-d4fb-71efaac04ade"
      },
      "source": [
        "valor_absoluto(-7)"
      ],
      "execution_count": 219,
      "outputs": [
        {
          "output_type": "execute_result",
          "data": {
            "text/plain": [
              "7"
            ]
          },
          "metadata": {},
          "execution_count": 219
        }
      ]
    },
    {
      "cell_type": "code",
      "metadata": {
        "colab": {
          "base_uri": "https://localhost:8080/"
        },
        "id": "3Na5f44jRwMy",
        "outputId": "a8417e38-9169-4752-99cb-a17385764eb4"
      },
      "source": [
        "valor_absoluto(-5.6e-8)"
      ],
      "execution_count": 220,
      "outputs": [
        {
          "output_type": "execute_result",
          "data": {
            "text/plain": [
              "5.6e-08"
            ]
          },
          "metadata": {},
          "execution_count": 220
        }
      ]
    },
    {
      "cell_type": "markdown",
      "metadata": {
        "id": "O0GgWVOLRwMy"
      },
      "source": [
        "# while"
      ]
    },
    {
      "cell_type": "code",
      "metadata": {
        "colab": {
          "base_uri": "https://localhost:8080/"
        },
        "id": "-Fo4JsxPRwMy",
        "outputId": "5422a670-f15e-484e-ce18-f03f0e7d03b0"
      },
      "source": [
        "def busca_divisor(num):\n",
        "    if abs(num) <= 1:\n",
        "        return 1\n",
        "    \n",
        "    div = abs(num)-1\n",
        "    while  num%div != 0 :\n",
        "        div = div - 1\n",
        "    return div\n",
        "        \n",
        "busca_divisor(100)"
      ],
      "execution_count": 408,
      "outputs": [
        {
          "output_type": "execute_result",
          "data": {
            "text/plain": [
              "50"
            ]
          },
          "metadata": {},
          "execution_count": 408
        }
      ]
    },
    {
      "cell_type": "code",
      "metadata": {
        "colab": {
          "base_uri": "https://localhost:8080/"
        },
        "id": "4-vboTDfRwMy",
        "outputId": "659254cc-2ca5-40cb-f1b9-2f8aa2f740d2"
      },
      "source": [
        "busca_divisor(2)"
      ],
      "execution_count": 222,
      "outputs": [
        {
          "output_type": "execute_result",
          "data": {
            "text/plain": [
              "1"
            ]
          },
          "metadata": {},
          "execution_count": 222
        }
      ]
    },
    {
      "cell_type": "code",
      "metadata": {
        "colab": {
          "base_uri": "https://localhost:8080/"
        },
        "id": "xqBsehKKRwMz",
        "outputId": "d66f79d0-e456-4075-a24c-3e82743fd01f"
      },
      "source": [
        "busca_divisor(1)"
      ],
      "execution_count": 223,
      "outputs": [
        {
          "output_type": "execute_result",
          "data": {
            "text/plain": [
              "1"
            ]
          },
          "metadata": {},
          "execution_count": 223
        }
      ]
    },
    {
      "cell_type": "code",
      "metadata": {
        "colab": {
          "base_uri": "https://localhost:8080/"
        },
        "id": "T8v5YsslRwMz",
        "outputId": "1385e90c-fbcd-4a6c-c49e-dd583b472ffe"
      },
      "source": [
        "busca_divisor(0)"
      ],
      "execution_count": 224,
      "outputs": [
        {
          "output_type": "execute_result",
          "data": {
            "text/plain": [
              "1"
            ]
          },
          "metadata": {},
          "execution_count": 224
        }
      ]
    },
    {
      "cell_type": "code",
      "metadata": {
        "colab": {
          "base_uri": "https://localhost:8080/"
        },
        "id": "mJufuStARwMz",
        "outputId": "71ad9551-a322-41f7-f62e-480c91615147"
      },
      "source": [
        "busca_divisor(-1)"
      ],
      "execution_count": 225,
      "outputs": [
        {
          "output_type": "execute_result",
          "data": {
            "text/plain": [
              "1"
            ]
          },
          "metadata": {},
          "execution_count": 225
        }
      ]
    },
    {
      "cell_type": "code",
      "metadata": {
        "colab": {
          "base_uri": "https://localhost:8080/"
        },
        "id": "NjOe5LLfRwMz",
        "outputId": "fd1aac6d-8594-4cda-f679-8bfd28046bb9"
      },
      "source": [
        "busca_divisor(-2)"
      ],
      "execution_count": 226,
      "outputs": [
        {
          "output_type": "execute_result",
          "data": {
            "text/plain": [
              "1"
            ]
          },
          "metadata": {},
          "execution_count": 226
        }
      ]
    },
    {
      "cell_type": "code",
      "metadata": {
        "colab": {
          "base_uri": "https://localhost:8080/"
        },
        "id": "cOykyVOSRwM0",
        "outputId": "c0996a19-9e6f-4c36-f7c3-ac7bb62e1b13"
      },
      "source": [
        "busca_divisor(-3)"
      ],
      "execution_count": 227,
      "outputs": [
        {
          "output_type": "execute_result",
          "data": {
            "text/plain": [
              "1"
            ]
          },
          "metadata": {},
          "execution_count": 227
        }
      ]
    },
    {
      "cell_type": "code",
      "metadata": {
        "colab": {
          "base_uri": "https://localhost:8080/"
        },
        "id": "a4JntI4PRwM0",
        "outputId": "ccc8030f-3ac8-44e8-8186-48c4fdaf93c6"
      },
      "source": [
        "busca_divisor(-4)"
      ],
      "execution_count": 228,
      "outputs": [
        {
          "output_type": "execute_result",
          "data": {
            "text/plain": [
              "2"
            ]
          },
          "metadata": {},
          "execution_count": 228
        }
      ]
    },
    {
      "cell_type": "markdown",
      "metadata": {
        "id": "KWrbnjpARwM0"
      },
      "source": [
        "## `tuple`\n",
        "Una secuencia de datos, separados por coma, forman un tipo de dato llamado tupla (`tuple`), el cual no se puede modificar parcialmente. En algunos casos es recomendable colocar la tupla entre paréntesis."
      ]
    },
    {
      "cell_type": "code",
      "metadata": {
        "colab": {
          "base_uri": "https://localhost:8080/"
        },
        "id": "6j5QfUb9RwM0",
        "outputId": "b2c66127-18dc-41a6-d931-ebde65f4b9f8"
      },
      "source": [
        "v=11, 22, 35, 44\n",
        "v"
      ],
      "execution_count": 229,
      "outputs": [
        {
          "output_type": "execute_result",
          "data": {
            "text/plain": [
              "(11, 22, 35, 44)"
            ]
          },
          "metadata": {},
          "execution_count": 229
        }
      ]
    },
    {
      "cell_type": "code",
      "metadata": {
        "colab": {
          "base_uri": "https://localhost:8080/"
        },
        "id": "JmXHFEXeRwM5",
        "outputId": "29a27f7d-d201-4576-bd28-45c700377ddd"
      },
      "source": [
        "v[2]"
      ],
      "execution_count": 230,
      "outputs": [
        {
          "output_type": "execute_result",
          "data": {
            "text/plain": [
              "35"
            ]
          },
          "metadata": {},
          "execution_count": 230
        }
      ]
    },
    {
      "cell_type": "code",
      "metadata": {
        "colab": {
          "base_uri": "https://localhost:8080/"
        },
        "id": "tV7rzwWlRwM6",
        "outputId": "491df6cc-fba2-4ebc-82d9-1ecebf1de2c4"
      },
      "source": [
        "#v[2]=33\n",
        "v"
      ],
      "execution_count": 231,
      "outputs": [
        {
          "output_type": "execute_result",
          "data": {
            "text/plain": [
              "(11, 22, 35, 44)"
            ]
          },
          "metadata": {},
          "execution_count": 231
        }
      ]
    },
    {
      "cell_type": "code",
      "metadata": {
        "colab": {
          "base_uri": "https://localhost:8080/"
        },
        "id": "oL_LjcUGRwM6",
        "outputId": "781e0dcd-6d35-440c-8d32-4dc385d2dafb"
      },
      "source": [
        "v[-1]"
      ],
      "execution_count": 232,
      "outputs": [
        {
          "output_type": "execute_result",
          "data": {
            "text/plain": [
              "44"
            ]
          },
          "metadata": {},
          "execution_count": 232
        }
      ]
    },
    {
      "cell_type": "code",
      "metadata": {
        "scrolled": true,
        "colab": {
          "base_uri": "https://localhost:8080/"
        },
        "id": "av1GnMPVRwM6",
        "outputId": "553d6be8-45f0-4f70-f45a-f158c432cbc0"
      },
      "source": [
        "v[1:3]"
      ],
      "execution_count": 233,
      "outputs": [
        {
          "output_type": "execute_result",
          "data": {
            "text/plain": [
              "(22, 35)"
            ]
          },
          "metadata": {},
          "execution_count": 233
        }
      ]
    },
    {
      "cell_type": "code",
      "metadata": {
        "colab": {
          "base_uri": "https://localhost:8080/"
        },
        "id": "TUnOyru3RwM7",
        "outputId": "ba537bf4-f94b-4a19-856e-d154024075a0"
      },
      "source": [
        "v[1:]"
      ],
      "execution_count": 234,
      "outputs": [
        {
          "output_type": "execute_result",
          "data": {
            "text/plain": [
              "(22, 35, 44)"
            ]
          },
          "metadata": {},
          "execution_count": 234
        }
      ]
    },
    {
      "cell_type": "code",
      "metadata": {
        "colab": {
          "base_uri": "https://localhost:8080/"
        },
        "id": "Wo3Xx81JRwM7",
        "outputId": "b68abac1-93f4-4502-bf01-aa1483ffe78d"
      },
      "source": [
        "v[:3]"
      ],
      "execution_count": 235,
      "outputs": [
        {
          "output_type": "execute_result",
          "data": {
            "text/plain": [
              "(11, 22, 35)"
            ]
          },
          "metadata": {},
          "execution_count": 235
        }
      ]
    },
    {
      "cell_type": "markdown",
      "metadata": {
        "id": "jO6xn_7KRwM7"
      },
      "source": [
        "La concatenación de dos o más tuplas se realiza con el operador `+`"
      ]
    },
    {
      "cell_type": "code",
      "metadata": {
        "colab": {
          "base_uri": "https://localhost:8080/"
        },
        "id": "sz0znlXxRwM7",
        "outputId": "9c42f15d-4429-4c46-886e-864ca3611407"
      },
      "source": [
        "(3,4) + (5,7)"
      ],
      "execution_count": 236,
      "outputs": [
        {
          "output_type": "execute_result",
          "data": {
            "text/plain": [
              "(3, 4, 5, 7)"
            ]
          },
          "metadata": {},
          "execution_count": 236
        }
      ]
    },
    {
      "cell_type": "code",
      "metadata": {
        "colab": {
          "base_uri": "https://localhost:8080/"
        },
        "id": "6_a5bwDdRwM8",
        "outputId": "1c97a7be-eccf-4928-b715-bdbe884606b3"
      },
      "source": [
        "3, 4+5, 7"
      ],
      "execution_count": 237,
      "outputs": [
        {
          "output_type": "execute_result",
          "data": {
            "text/plain": [
              "(3, 9, 7)"
            ]
          },
          "metadata": {},
          "execution_count": 237
        }
      ]
    },
    {
      "cell_type": "markdown",
      "metadata": {
        "id": "CbwyaG-_RwM8"
      },
      "source": [
        "Una tupla se puede repetir usando el operador `*`"
      ]
    },
    {
      "cell_type": "code",
      "metadata": {
        "colab": {
          "base_uri": "https://localhost:8080/"
        },
        "id": "WCcwPw0wRwM8",
        "outputId": "7546e99c-2d03-4b3a-c84b-69942263dfe8"
      },
      "source": [
        "v* 4"
      ],
      "execution_count": 238,
      "outputs": [
        {
          "output_type": "execute_result",
          "data": {
            "text/plain": [
              "(11, 22, 35, 44, 11, 22, 35, 44, 11, 22, 35, 44, 11, 22, 35, 44)"
            ]
          },
          "metadata": {},
          "execution_count": 238
        }
      ]
    },
    {
      "cell_type": "markdown",
      "metadata": {
        "id": "HzcC5nyHRwM8"
      },
      "source": [
        "## `list`\n",
        "Una tupla (`tuple`) encerrada en corchetes define una lista (`list`) la cual sí permite modificar parcialmente."
      ]
    },
    {
      "cell_type": "code",
      "metadata": {
        "colab": {
          "base_uri": "https://localhost:8080/"
        },
        "id": "8XLQ9JdMRwM9",
        "outputId": "514d8774-4300-4cd1-bbf4-95fb377234ab"
      },
      "source": [
        "u=[11, 21, 35, 44]\n",
        "u"
      ],
      "execution_count": 239,
      "outputs": [
        {
          "output_type": "execute_result",
          "data": {
            "text/plain": [
              "[11, 21, 35, 44]"
            ]
          },
          "metadata": {},
          "execution_count": 239
        }
      ]
    },
    {
      "cell_type": "markdown",
      "metadata": {
        "id": "CX8hkgF9RwM9"
      },
      "source": [
        "Una de las principales diferencias entre las tuplas y las listas es que la lista se puede modificar (es mutable) pero la tupla no (es inmutable), esto la hace un poco más eficiente."
      ]
    },
    {
      "cell_type": "code",
      "metadata": {
        "colab": {
          "base_uri": "https://localhost:8080/"
        },
        "id": "OC5nKVWCRwM9",
        "outputId": "d0b70282-73ab-47ef-cb6c-a8609d0171e5"
      },
      "source": [
        "u=[11, 22, 35, 44]\n",
        "u"
      ],
      "execution_count": 240,
      "outputs": [
        {
          "output_type": "execute_result",
          "data": {
            "text/plain": [
              "[11, 22, 35, 44]"
            ]
          },
          "metadata": {},
          "execution_count": 240
        }
      ]
    },
    {
      "cell_type": "code",
      "metadata": {
        "colab": {
          "base_uri": "https://localhost:8080/"
        },
        "id": "QPw9K-DzRwM9",
        "outputId": "b7953ae3-bc8d-41b4-fbe3-1224cf243e78"
      },
      "source": [
        "u[2]"
      ],
      "execution_count": 241,
      "outputs": [
        {
          "output_type": "execute_result",
          "data": {
            "text/plain": [
              "35"
            ]
          },
          "metadata": {},
          "execution_count": 241
        }
      ]
    },
    {
      "cell_type": "code",
      "metadata": {
        "colab": {
          "base_uri": "https://localhost:8080/"
        },
        "id": "N3RJwiR2RwM9",
        "outputId": "40f1efc4-26fd-4d03-d3aa-0b1abed90e73"
      },
      "source": [
        "u[2]=33\n",
        "u"
      ],
      "execution_count": 242,
      "outputs": [
        {
          "output_type": "execute_result",
          "data": {
            "text/plain": [
              "[11, 22, 33, 44]"
            ]
          },
          "metadata": {},
          "execution_count": 242
        }
      ]
    },
    {
      "cell_type": "code",
      "metadata": {
        "colab": {
          "base_uri": "https://localhost:8080/"
        },
        "id": "v2tDoelIRwM-",
        "outputId": "1d7464a6-a22c-4af9-8ae4-fbda8f0f91b4"
      },
      "source": [
        "u[-1]"
      ],
      "execution_count": 243,
      "outputs": [
        {
          "output_type": "execute_result",
          "data": {
            "text/plain": [
              "44"
            ]
          },
          "metadata": {},
          "execution_count": 243
        }
      ]
    },
    {
      "cell_type": "code",
      "metadata": {
        "scrolled": true,
        "colab": {
          "base_uri": "https://localhost:8080/"
        },
        "id": "RuFYVld7RwM-",
        "outputId": "ac49c53a-975e-4f51-cb96-7bea9daa7104"
      },
      "source": [
        "u[1:3]"
      ],
      "execution_count": 244,
      "outputs": [
        {
          "output_type": "execute_result",
          "data": {
            "text/plain": [
              "[22, 33]"
            ]
          },
          "metadata": {},
          "execution_count": 244
        }
      ]
    },
    {
      "cell_type": "code",
      "metadata": {
        "colab": {
          "base_uri": "https://localhost:8080/"
        },
        "id": "lmF66xc7RwM-",
        "outputId": "d0e9d1aa-b49f-4b7b-defc-50e9d0d29cfc"
      },
      "source": [
        "u[1:3]=88,99\n",
        "u"
      ],
      "execution_count": 245,
      "outputs": [
        {
          "output_type": "execute_result",
          "data": {
            "text/plain": [
              "[11, 88, 99, 44]"
            ]
          },
          "metadata": {},
          "execution_count": 245
        }
      ]
    },
    {
      "cell_type": "code",
      "metadata": {
        "colab": {
          "base_uri": "https://localhost:8080/"
        },
        "id": "2lVk-5SIRwM-",
        "outputId": "2f885a49-e2c3-47f9-a1fa-a3c0f53418c1"
      },
      "source": [
        "u[1:]"
      ],
      "execution_count": 246,
      "outputs": [
        {
          "output_type": "execute_result",
          "data": {
            "text/plain": [
              "[88, 99, 44]"
            ]
          },
          "metadata": {},
          "execution_count": 246
        }
      ]
    },
    {
      "cell_type": "code",
      "metadata": {
        "colab": {
          "base_uri": "https://localhost:8080/"
        },
        "id": "H_jRL1w9RwM-",
        "outputId": "f9f9f875-61ce-4358-b53b-13b3df16744d"
      },
      "source": [
        "u[:3]"
      ],
      "execution_count": 247,
      "outputs": [
        {
          "output_type": "execute_result",
          "data": {
            "text/plain": [
              "[11, 88, 99]"
            ]
          },
          "metadata": {},
          "execution_count": 247
        }
      ]
    },
    {
      "cell_type": "code",
      "metadata": {
        "colab": {
          "base_uri": "https://localhost:8080/"
        },
        "id": "Ay5uQzuGRwM_",
        "outputId": "e3aa5059-6736-4492-bba5-640dc2b65e04"
      },
      "source": [
        "u+u"
      ],
      "execution_count": 248,
      "outputs": [
        {
          "output_type": "execute_result",
          "data": {
            "text/plain": [
              "[11, 88, 99, 44, 11, 88, 99, 44]"
            ]
          },
          "metadata": {},
          "execution_count": 248
        }
      ]
    },
    {
      "cell_type": "code",
      "metadata": {
        "colab": {
          "base_uri": "https://localhost:8080/"
        },
        "id": "JZnOPAQbRwM_",
        "outputId": "05f57277-4970-4abe-eded-30e5099cb252"
      },
      "source": [
        "u*4"
      ],
      "execution_count": 249,
      "outputs": [
        {
          "output_type": "execute_result",
          "data": {
            "text/plain": [
              "[11, 88, 99, 44, 11, 88, 99, 44, 11, 88, 99, 44, 11, 88, 99, 44]"
            ]
          },
          "metadata": {},
          "execution_count": 249
        }
      ]
    },
    {
      "cell_type": "markdown",
      "metadata": {
        "id": "Eghi6bHHRwM_"
      },
      "source": [
        "## `str`\n",
        "Una secuencia de caracteres se conoce como una cadena o _string_ (`str`). Esta se define con comillas dobles o sencillas. Este tipo de dato tampoco permite modificar parcialmente"
      ]
    },
    {
      "cell_type": "code",
      "metadata": {
        "colab": {
          "base_uri": "https://localhost:8080/",
          "height": 35
        },
        "id": "o5UegRL5RwM_",
        "outputId": "9a76935e-cd5a-41b2-bd2d-0ba3947bfd67"
      },
      "source": [
        "texto_1 = \"Usualmente aquí se escribe 'Hola Mundo'\"\n",
        "texto_1"
      ],
      "execution_count": 250,
      "outputs": [
        {
          "output_type": "execute_result",
          "data": {
            "application/vnd.google.colaboratory.intrinsic+json": {
              "type": "string"
            },
            "text/plain": [
              "\"Usualmente aquí se escribe 'Hola Mundo'\""
            ]
          },
          "metadata": {},
          "execution_count": 250
        }
      ]
    },
    {
      "cell_type": "code",
      "metadata": {
        "colab": {
          "base_uri": "https://localhost:8080/",
          "height": 35
        },
        "id": "n_JVVLBGRwNA",
        "outputId": "00715f1c-4c56-43c4-e407-cac9e5710fca"
      },
      "source": [
        "texto_2 = 'Usualmente aquí se escribe \"Hola Mundo\"'\n",
        "texto_2"
      ],
      "execution_count": 251,
      "outputs": [
        {
          "output_type": "execute_result",
          "data": {
            "application/vnd.google.colaboratory.intrinsic+json": {
              "type": "string"
            },
            "text/plain": [
              "'Usualmente aquí se escribe \"Hola Mundo\"'"
            ]
          },
          "metadata": {},
          "execution_count": 251
        }
      ]
    },
    {
      "cell_type": "code",
      "metadata": {
        "colab": {
          "base_uri": "https://localhost:8080/",
          "height": 35
        },
        "id": "wDfwbhdgRwNA",
        "outputId": "53292d5f-ff8e-4e58-d85f-47814eab823c"
      },
      "source": [
        "texto_1[11:15]"
      ],
      "execution_count": 252,
      "outputs": [
        {
          "output_type": "execute_result",
          "data": {
            "application/vnd.google.colaboratory.intrinsic+json": {
              "type": "string"
            },
            "text/plain": [
              "'aquí'"
            ]
          },
          "metadata": {},
          "execution_count": 252
        }
      ]
    },
    {
      "cell_type": "code",
      "metadata": {
        "id": "GAgwEBZDRwNA"
      },
      "source": [
        "#texto_1[11:15]='allá'"
      ],
      "execution_count": 253,
      "outputs": []
    },
    {
      "cell_type": "code",
      "metadata": {
        "colab": {
          "base_uri": "https://localhost:8080/",
          "height": 35
        },
        "id": "bcwPtKjfRwNA",
        "outputId": "30eb22b6-fe5a-4073-c444-28579d9f34bb"
      },
      "source": [
        "texto_1[-1]"
      ],
      "execution_count": 254,
      "outputs": [
        {
          "output_type": "execute_result",
          "data": {
            "application/vnd.google.colaboratory.intrinsic+json": {
              "type": "string"
            },
            "text/plain": [
              "\"'\""
            ]
          },
          "metadata": {},
          "execution_count": 254
        }
      ]
    },
    {
      "cell_type": "markdown",
      "metadata": {
        "id": "GwCHUrfFRwNA"
      },
      "source": [
        "Para presentar un texto se puede usar la función `print`"
      ]
    },
    {
      "cell_type": "code",
      "metadata": {
        "colab": {
          "base_uri": "https://localhost:8080/"
        },
        "id": "4BaMb3xQRwNB",
        "outputId": "6b2f9085-3935-42d4-835a-81b7dd8e11c6"
      },
      "source": [
        "print(texto_1)"
      ],
      "execution_count": 255,
      "outputs": [
        {
          "output_type": "stream",
          "name": "stdout",
          "text": [
            "Usualmente aquí se escribe 'Hola Mundo'\n"
          ]
        }
      ]
    },
    {
      "cell_type": "code",
      "metadata": {
        "colab": {
          "base_uri": "https://localhost:8080/"
        },
        "id": "lnJLYI26RwNB",
        "outputId": "dbb63193-a84c-4e3d-a455-6361287852d2"
      },
      "source": [
        "print(texto_2)"
      ],
      "execution_count": 256,
      "outputs": [
        {
          "output_type": "stream",
          "name": "stdout",
          "text": [
            "Usualmente aquí se escribe \"Hola Mundo\"\n"
          ]
        }
      ]
    },
    {
      "cell_type": "markdown",
      "metadata": {
        "id": "AJvpnYqMRwNB"
      },
      "source": [
        "Para leer un texto del teclado puede usarse `input`"
      ]
    },
    {
      "cell_type": "code",
      "metadata": {
        "colab": {
          "base_uri": "https://localhost:8080/"
        },
        "id": "aT1KiJ7CRwNB",
        "outputId": "a044cc3a-02b8-4739-e81d-32ac49bf8659"
      },
      "source": [
        "texto_3 = input('Piense un dígito y escríbalo: ')\n",
        "print('El dígito que pensó por 11 es:',texto_3*2)"
      ],
      "execution_count": 257,
      "outputs": [
        {
          "output_type": "stream",
          "name": "stdout",
          "text": [
            "Piense un dígito y escríbalo: a\n",
            "El dígito que pensó por 11 es: aa\n"
          ]
        }
      ]
    },
    {
      "cell_type": "markdown",
      "metadata": {
        "id": "399qExTVRwNB"
      },
      "source": [
        "## `iterable`\n",
        "`tuple`, `list` y `str` son subtipos del tipo de dato `iterable`, sobre el cual se pueden aplicar algunas funciones"
      ]
    },
    {
      "cell_type": "markdown",
      "metadata": {
        "id": "TVDK5aA3RwNC"
      },
      "source": [
        "## `len`\n",
        "La función incorporada de python `len` indica la cantidad de elementos de un iterable"
      ]
    },
    {
      "cell_type": "markdown",
      "metadata": {
        "id": "ZDQsznqoRwNC"
      },
      "source": [
        "La función `len` permite conocer la cantidad de elementos de una tupla o una lista"
      ]
    },
    {
      "cell_type": "code",
      "metadata": {
        "colab": {
          "base_uri": "https://localhost:8080/"
        },
        "id": "OCMf1Ib4RwNC",
        "outputId": "27ad321c-8ae1-4fc1-f888-974c70d0866f"
      },
      "source": [
        "len([2,6,2,7,2,9,2])"
      ],
      "execution_count": 258,
      "outputs": [
        {
          "output_type": "execute_result",
          "data": {
            "text/plain": [
              "7"
            ]
          },
          "metadata": {},
          "execution_count": 258
        }
      ]
    },
    {
      "cell_type": "code",
      "metadata": {
        "colab": {
          "base_uri": "https://localhost:8080/"
        },
        "id": "ZZwcUWXHRwNC",
        "outputId": "660c06ab-9bdd-4083-8d87-512f2dea2c5d"
      },
      "source": [
        "len((2,6,2,7,2)) # en este caso es necesario encerrar la tupla entre paréntesis para indicar que sólo hay un argumento en la función"
      ],
      "execution_count": 259,
      "outputs": [
        {
          "output_type": "execute_result",
          "data": {
            "text/plain": [
              "5"
            ]
          },
          "metadata": {},
          "execution_count": 259
        }
      ]
    },
    {
      "cell_type": "code",
      "metadata": {
        "colab": {
          "base_uri": "https://localhost:8080/"
        },
        "id": "ExfmRQ7yRwNC",
        "outputId": "7ff90683-fad1-4c9d-e696-e232a272a724"
      },
      "source": [
        "len(texto_1)"
      ],
      "execution_count": 260,
      "outputs": [
        {
          "output_type": "execute_result",
          "data": {
            "text/plain": [
              "39"
            ]
          },
          "metadata": {},
          "execution_count": 260
        }
      ]
    },
    {
      "cell_type": "markdown",
      "metadata": {
        "id": "IRpA23N_RwNC"
      },
      "source": [
        "# in \n",
        "Determina si un elemento está en un iterable"
      ]
    },
    {
      "cell_type": "code",
      "metadata": {
        "colab": {
          "base_uri": "https://localhost:8080/"
        },
        "id": "0B68EjZvRwND",
        "outputId": "a61d503b-a898-4ef5-f2c5-8d61f1c666d6"
      },
      "source": [
        "2 in (3,5,6)"
      ],
      "execution_count": 261,
      "outputs": [
        {
          "output_type": "execute_result",
          "data": {
            "text/plain": [
              "False"
            ]
          },
          "metadata": {},
          "execution_count": 261
        }
      ]
    },
    {
      "cell_type": "code",
      "metadata": {
        "colab": {
          "base_uri": "https://localhost:8080/"
        },
        "id": "GaVfP5VIRwND",
        "outputId": "f771475c-4d21-4322-9efd-621de04008ef"
      },
      "source": [
        "5 in [3,5,6]"
      ],
      "execution_count": 262,
      "outputs": [
        {
          "output_type": "execute_result",
          "data": {
            "text/plain": [
              "True"
            ]
          },
          "metadata": {},
          "execution_count": 262
        }
      ]
    },
    {
      "cell_type": "code",
      "metadata": {
        "colab": {
          "base_uri": "https://localhost:8080/"
        },
        "id": "gvJ00VWORwND",
        "outputId": "d2c4811f-2f36-43e9-c1d9-2c364fceaa7d"
      },
      "source": [
        "'l' in 'hola'"
      ],
      "execution_count": 263,
      "outputs": [
        {
          "output_type": "execute_result",
          "data": {
            "text/plain": [
              "True"
            ]
          },
          "metadata": {},
          "execution_count": 263
        }
      ]
    },
    {
      "cell_type": "markdown",
      "metadata": {
        "id": "Hnz6TF5FRwND"
      },
      "source": [
        "# `range`\n",
        "La función incorporada de Python `range`, permite generar un rango de números"
      ]
    },
    {
      "cell_type": "code",
      "metadata": {
        "colab": {
          "base_uri": "https://localhost:8080/"
        },
        "id": "wYdcE7JJRwND",
        "outputId": "a727193a-847b-4c67-94a6-b4e62e5f41d6"
      },
      "source": [
        "list(range(3))"
      ],
      "execution_count": 264,
      "outputs": [
        {
          "output_type": "execute_result",
          "data": {
            "text/plain": [
              "[0, 1, 2]"
            ]
          },
          "metadata": {},
          "execution_count": 264
        }
      ]
    },
    {
      "cell_type": "code",
      "metadata": {
        "colab": {
          "base_uri": "https://localhost:8080/"
        },
        "id": "owyUzj7BRwNE",
        "outputId": "1837274c-3d36-476a-a5a0-72e7235cf942"
      },
      "source": [
        "tuple(range(10))"
      ],
      "execution_count": 265,
      "outputs": [
        {
          "output_type": "execute_result",
          "data": {
            "text/plain": [
              "(0, 1, 2, 3, 4, 5, 6, 7, 8, 9)"
            ]
          },
          "metadata": {},
          "execution_count": 265
        }
      ]
    },
    {
      "cell_type": "code",
      "metadata": {
        "colab": {
          "base_uri": "https://localhost:8080/"
        },
        "id": "-wHGxf7yRwNF",
        "outputId": "fdd4882d-3738-47b9-af70-360cfd3276f6"
      },
      "source": [
        "tuple(range(2,10,3))"
      ],
      "execution_count": 266,
      "outputs": [
        {
          "output_type": "execute_result",
          "data": {
            "text/plain": [
              "(2, 5, 8)"
            ]
          },
          "metadata": {},
          "execution_count": 266
        }
      ]
    },
    {
      "cell_type": "markdown",
      "metadata": {
        "id": "_WI0NEB3RwNG"
      },
      "source": [
        "# `for` variable `in` iterable:"
      ]
    },
    {
      "cell_type": "code",
      "metadata": {
        "colab": {
          "base_uri": "https://localhost:8080/"
        },
        "id": "Ixmm8FrhRwNG",
        "outputId": "f889e80d-cce9-4895-875f-2c5ac074273e"
      },
      "source": [
        "for i in range(4):\n",
        "    print(i)"
      ],
      "execution_count": 267,
      "outputs": [
        {
          "output_type": "stream",
          "name": "stdout",
          "text": [
            "0\n",
            "1\n",
            "2\n",
            "3\n"
          ]
        }
      ]
    },
    {
      "cell_type": "code",
      "metadata": {
        "colab": {
          "base_uri": "https://localhost:8080/"
        },
        "id": "GnbPVUr7RwNG",
        "outputId": "d1de74c7-af9e-4a80-ee40-c6477e954f4e"
      },
      "source": [
        "for i in 'hola':\n",
        "    print(i)"
      ],
      "execution_count": 268,
      "outputs": [
        {
          "output_type": "stream",
          "name": "stdout",
          "text": [
            "h\n",
            "o\n",
            "l\n",
            "a\n"
          ]
        }
      ]
    },
    {
      "cell_type": "code",
      "metadata": {
        "colab": {
          "base_uri": "https://localhost:8080/"
        },
        "id": "oSdILNNwRwNG",
        "outputId": "d08fd360-248d-4c64-b9ee-4ac81f20d186"
      },
      "source": [
        "for i in [8,4,7]:\n",
        "    print(i)"
      ],
      "execution_count": 269,
      "outputs": [
        {
          "output_type": "stream",
          "name": "stdout",
          "text": [
            "8\n",
            "4\n",
            "7\n"
          ]
        }
      ]
    },
    {
      "cell_type": "code",
      "metadata": {
        "colab": {
          "base_uri": "https://localhost:8080/"
        },
        "id": "GMZ5N3Z2RwNG",
        "outputId": "ee48bbf0-da12-4bce-d308-7c480a834007"
      },
      "source": [
        "for i in [(3,4,5),[7,8,4],'hola']:\n",
        "    print(i)"
      ],
      "execution_count": 270,
      "outputs": [
        {
          "output_type": "stream",
          "name": "stdout",
          "text": [
            "(3, 4, 5)\n",
            "[7, 8, 4]\n",
            "hola\n"
          ]
        }
      ]
    },
    {
      "cell_type": "code",
      "metadata": {
        "colab": {
          "base_uri": "https://localhost:8080/"
        },
        "id": "EosYX96PRwNH",
        "outputId": "4c435f48-9587-4cf2-d4fd-50a452735a82"
      },
      "source": [
        "for i in 'uno','dos','tres':\n",
        "    print(i)"
      ],
      "execution_count": 271,
      "outputs": [
        {
          "output_type": "stream",
          "name": "stdout",
          "text": [
            "uno\n",
            "dos\n",
            "tres\n"
          ]
        }
      ]
    },
    {
      "cell_type": "markdown",
      "metadata": {
        "id": "Lns4T_zbRwNH"
      },
      "source": [
        "#  `open` `.readline` `close`\n",
        "Estas 3 instrucciones permiten leer las 'líneas' de un archivo y las pasa a una lista de `str`."
      ]
    },
    {
      "cell_type": "code",
      "metadata": {
        "colab": {
          "base_uri": "https://localhost:8080/"
        },
        "id": "qCABfc8URwNH",
        "outputId": "f318cada-2d94-47c0-fc11-09f4b2b7d74f"
      },
      "source": [
        "archivo  = open('palabras500.csv', encoding=\"utf-8\")\n",
        "lineas = archivo.readlines()\n",
        "archivo.close()\n",
        "\n",
        "len(lineas)"
      ],
      "execution_count": 272,
      "outputs": [
        {
          "output_type": "execute_result",
          "data": {
            "text/plain": [
              "500"
            ]
          },
          "metadata": {},
          "execution_count": 272
        }
      ]
    },
    {
      "cell_type": "code",
      "metadata": {
        "colab": {
          "base_uri": "https://localhost:8080/",
          "height": 35
        },
        "id": "19EvET9ARwNH",
        "outputId": "cb912ecc-7014-42f4-b953-b835b665472e"
      },
      "source": [
        "lineas[0]"
      ],
      "execution_count": 273,
      "outputs": [
        {
          "output_type": "execute_result",
          "data": {
            "application/vnd.google.colaboratory.intrinsic+json": {
              "type": "string"
            },
            "text/plain": [
              "'de\\n'"
            ]
          },
          "metadata": {},
          "execution_count": 273
        }
      ]
    },
    {
      "cell_type": "code",
      "metadata": {
        "colab": {
          "base_uri": "https://localhost:8080/",
          "height": 35
        },
        "id": "gW9EImvKRwNI",
        "outputId": "3549111f-c5a8-4b50-bde2-fe53d8a71fa0"
      },
      "source": [
        "lineas[499]"
      ],
      "execution_count": 274,
      "outputs": [
        {
          "output_type": "execute_result",
          "data": {
            "application/vnd.google.colaboratory.intrinsic+json": {
              "type": "string"
            },
            "text/plain": [
              "'serán\\n'"
            ]
          },
          "metadata": {},
          "execution_count": 274
        }
      ]
    },
    {
      "cell_type": "code",
      "metadata": {
        "colab": {
          "base_uri": "https://localhost:8080/",
          "height": 35
        },
        "id": "kk15URf7RwNI",
        "outputId": "27b7c646-62ef-40e5-ab55-0eaab792b920"
      },
      "source": [
        "lineas[499]"
      ],
      "execution_count": 275,
      "outputs": [
        {
          "output_type": "execute_result",
          "data": {
            "application/vnd.google.colaboratory.intrinsic+json": {
              "type": "string"
            },
            "text/plain": [
              "'serán\\n'"
            ]
          },
          "metadata": {},
          "execution_count": 275
        }
      ]
    },
    {
      "cell_type": "code",
      "metadata": {
        "colab": {
          "base_uri": "https://localhost:8080/"
        },
        "id": "mw-znIe5RwNI",
        "outputId": "de066395-23f0-4eb8-c95f-63ef3d36bad6"
      },
      "source": [
        "palabra  = input('Escriba una palabra: ')\n",
        "if palabra+'\\n' in lineas:\n",
        "    print('Sí es de las 500 más comunes')\n",
        "else:\n",
        "    print('No es de las 500 más comunes')"
      ],
      "execution_count": 276,
      "outputs": [
        {
          "output_type": "stream",
          "name": "stdout",
          "text": [
            "Escriba una palabra: a\n",
            "Sí es de las 500 más comunes\n"
          ]
        }
      ]
    },
    {
      "cell_type": "markdown",
      "metadata": {
        "id": "aTqsleUERwNJ"
      },
      "source": [
        "# Reto\n",
        "Realice una función `rima` que encuentre las palabras que finalizan según el parámetro."
      ]
    },
    {
      "cell_type": "code",
      "metadata": {
        "id": "pR3MafYlxCBQ",
        "outputId": "801907a2-be82-45e7-d92c-4245deac35cd",
        "colab": {
          "base_uri": "https://localhost:8080/",
          "height": 466
        }
      },
      "source": [
        "import pandas as pd\n",
        "datos = pd.read_csv(\"palabras500.csv\", header=0)\n",
        "print (datos)\n",
        "fina = input(\"ingrese rima\")\n",
        "n = len(fina)\n",
        "df [fina] = str.contains(fina)"
      ],
      "execution_count": 424,
      "outputs": [
        {
          "name": "stdout",
          "output_type": "stream",
          "text": [
            "            de\n",
            "0           la\n",
            "1          que\n",
            "2           el\n",
            "3            y\n",
            "4           en\n",
            "..         ...\n",
            "494  necesidad\n",
            "495   haciendo\n",
            "496       cosa\n",
            "497       unas\n",
            "498      serán\n",
            "\n",
            "[499 rows x 1 columns]\n",
            "ingrese rimaas\n"
          ]
        },
        {
          "output_type": "error",
          "ename": "AttributeError",
          "evalue": "ignored",
          "traceback": [
            "\u001b[0;31m---------------------------------------------------------------------------\u001b[0m",
            "\u001b[0;31mAttributeError\u001b[0m                            Traceback (most recent call last)",
            "\u001b[0;32m<ipython-input-424-2c834ac75f1a>\u001b[0m in \u001b[0;36m<module>\u001b[0;34m()\u001b[0m\n\u001b[1;32m      4\u001b[0m \u001b[0mfina\u001b[0m \u001b[0;34m=\u001b[0m \u001b[0minput\u001b[0m\u001b[0;34m(\u001b[0m\u001b[0;34m\"ingrese rima\"\u001b[0m\u001b[0;34m)\u001b[0m\u001b[0;34m\u001b[0m\u001b[0;34m\u001b[0m\u001b[0m\n\u001b[1;32m      5\u001b[0m \u001b[0mn\u001b[0m \u001b[0;34m=\u001b[0m \u001b[0mlen\u001b[0m\u001b[0;34m(\u001b[0m\u001b[0mfina\u001b[0m\u001b[0;34m)\u001b[0m\u001b[0;34m\u001b[0m\u001b[0;34m\u001b[0m\u001b[0m\n\u001b[0;32m----> 6\u001b[0;31m \u001b[0mdf\u001b[0m \u001b[0;34m[\u001b[0m\u001b[0mfina\u001b[0m\u001b[0;34m]\u001b[0m \u001b[0;34m=\u001b[0m \u001b[0mstr\u001b[0m\u001b[0;34m.\u001b[0m\u001b[0mcontains\u001b[0m\u001b[0;34m(\u001b[0m\u001b[0mfina\u001b[0m\u001b[0;34m)\u001b[0m\u001b[0;34m\u001b[0m\u001b[0;34m\u001b[0m\u001b[0m\n\u001b[0m",
            "\u001b[0;31mAttributeError\u001b[0m: type object 'str' has no attribute 'contains'"
          ]
        }
      ]
    },
    {
      "cell_type": "markdown",
      "metadata": {
        "id": "RGtNGXkHRwNK"
      },
      "source": [
        "# `type`\n",
        "`type` permite saber el tipo de una variable "
      ]
    },
    {
      "cell_type": "code",
      "metadata": {
        "colab": {
          "base_uri": "https://localhost:8080/"
        },
        "id": "phP-6-3MRwNK",
        "outputId": "052022fa-2d33-4055-d816-a8ba856ab113"
      },
      "source": [
        "type(1.0)"
      ],
      "execution_count": 279,
      "outputs": [
        {
          "output_type": "execute_result",
          "data": {
            "text/plain": [
              "float"
            ]
          },
          "metadata": {},
          "execution_count": 279
        }
      ]
    },
    {
      "cell_type": "code",
      "metadata": {
        "colab": {
          "base_uri": "https://localhost:8080/"
        },
        "id": "aBO3ES-1RwNK",
        "outputId": "81514b03-b918-4649-ef4f-7773a839521d"
      },
      "source": [
        "type(1)"
      ],
      "execution_count": 280,
      "outputs": [
        {
          "output_type": "execute_result",
          "data": {
            "text/plain": [
              "int"
            ]
          },
          "metadata": {},
          "execution_count": 280
        }
      ]
    },
    {
      "cell_type": "code",
      "metadata": {
        "colab": {
          "base_uri": "https://localhost:8080/"
        },
        "id": "OKdqMzteRwNL",
        "outputId": "474c54f2-d6d1-4d21-c8db-87b633917595"
      },
      "source": [
        "type(True)"
      ],
      "execution_count": 281,
      "outputs": [
        {
          "output_type": "execute_result",
          "data": {
            "text/plain": [
              "bool"
            ]
          },
          "metadata": {},
          "execution_count": 281
        }
      ]
    },
    {
      "cell_type": "code",
      "metadata": {
        "colab": {
          "base_uri": "https://localhost:8080/"
        },
        "id": "PfTKaB5yRwNL",
        "outputId": "bbe7aec7-6c19-4252-af7e-c1738afc3b97"
      },
      "source": [
        "type((1.0, 1, True))"
      ],
      "execution_count": 282,
      "outputs": [
        {
          "output_type": "execute_result",
          "data": {
            "text/plain": [
              "tuple"
            ]
          },
          "metadata": {},
          "execution_count": 282
        }
      ]
    },
    {
      "cell_type": "code",
      "metadata": {
        "colab": {
          "base_uri": "https://localhost:8080/"
        },
        "id": "Ws-_Oz0RRwNL",
        "outputId": "ccb9559b-a7fe-4d66-a3c5-8c6a73a7dcb8"
      },
      "source": [
        "type([1.0, 1, True])"
      ],
      "execution_count": 283,
      "outputs": [
        {
          "output_type": "execute_result",
          "data": {
            "text/plain": [
              "list"
            ]
          },
          "metadata": {},
          "execution_count": 283
        }
      ]
    },
    {
      "cell_type": "code",
      "metadata": {
        "colab": {
          "base_uri": "https://localhost:8080/"
        },
        "id": "Eqg5K6d1RwNL",
        "outputId": "7132f7f5-3c98-40aa-be53-ae994a6fa9c5"
      },
      "source": [
        "type('Adivina mi tipo')"
      ],
      "execution_count": 284,
      "outputs": [
        {
          "output_type": "execute_result",
          "data": {
            "text/plain": [
              "str"
            ]
          },
          "metadata": {},
          "execution_count": 284
        }
      ]
    },
    {
      "cell_type": "code",
      "metadata": {
        "colab": {
          "base_uri": "https://localhost:8080/"
        },
        "id": "scEc_8YqRwNM",
        "outputId": "b4e86ce0-3a6f-4f34-f4bc-886673ddc5aa"
      },
      "source": [
        "type(max)"
      ],
      "execution_count": 285,
      "outputs": [
        {
          "output_type": "execute_result",
          "data": {
            "text/plain": [
              "builtin_function_or_method"
            ]
          },
          "metadata": {},
          "execution_count": 285
        }
      ]
    },
    {
      "cell_type": "code",
      "metadata": {
        "colab": {
          "base_uri": "https://localhost:8080/"
        },
        "id": "i7OnaX7wRwNM",
        "outputId": "23435046-eb7f-426f-944e-33e1ae1f7e70"
      },
      "source": [
        "type(conv_automoviles_y_ciclas_en_ruedas)"
      ],
      "execution_count": 286,
      "outputs": [
        {
          "output_type": "execute_result",
          "data": {
            "text/plain": [
              "function"
            ]
          },
          "metadata": {},
          "execution_count": 286
        }
      ]
    },
    {
      "cell_type": "code",
      "metadata": {
        "colab": {
          "base_uri": "https://localhost:8080/"
        },
        "id": "WLjRE8biRwNM",
        "outputId": "5a492646-0852-4ff0-b66b-4473cdf04be7"
      },
      "source": [
        "type(str)"
      ],
      "execution_count": 287,
      "outputs": [
        {
          "output_type": "execute_result",
          "data": {
            "text/plain": [
              "type"
            ]
          },
          "metadata": {},
          "execution_count": 287
        }
      ]
    },
    {
      "cell_type": "code",
      "metadata": {
        "colab": {
          "base_uri": "https://localhost:8080/"
        },
        "id": "vglO_FqORwNN",
        "outputId": "d1343da9-c358-484b-939e-ccc0b6f1e029"
      },
      "source": [
        "a=5\n",
        "type(a)"
      ],
      "execution_count": 288,
      "outputs": [
        {
          "output_type": "execute_result",
          "data": {
            "text/plain": [
              "int"
            ]
          },
          "metadata": {},
          "execution_count": 288
        }
      ]
    },
    {
      "cell_type": "markdown",
      "metadata": {
        "id": "nEszWXr-RwNN"
      },
      "source": [
        "# `None`\n",
        "`None` es un objeto de Python que se usa cuando queremos indicar que nuestra variable no tiene ningún objeto válido. El tipo asociado es `NoneType`"
      ]
    },
    {
      "cell_type": "code",
      "metadata": {
        "colab": {
          "base_uri": "https://localhost:8080/"
        },
        "id": "Ws-XddZ6RwNN",
        "outputId": "e7590e83-bdcb-4dcd-9ed9-8647d4a2797c"
      },
      "source": [
        "type(None)"
      ],
      "execution_count": 289,
      "outputs": [
        {
          "output_type": "execute_result",
          "data": {
            "text/plain": [
              "NoneType"
            ]
          },
          "metadata": {},
          "execution_count": 289
        }
      ]
    },
    {
      "cell_type": "code",
      "metadata": {
        "colab": {
          "base_uri": "https://localhost:8080/"
        },
        "id": "-bOltI6pRwNN",
        "outputId": "7a8b5e06-0795-4a1e-cb8d-d7b95fa7a1fe"
      },
      "source": [
        "bool(None)"
      ],
      "execution_count": 290,
      "outputs": [
        {
          "output_type": "execute_result",
          "data": {
            "text/plain": [
              "False"
            ]
          },
          "metadata": {},
          "execution_count": 290
        }
      ]
    },
    {
      "cell_type": "code",
      "metadata": {
        "id": "q_QQE-gzRwNN"
      },
      "source": [
        "#int(None)"
      ],
      "execution_count": 291,
      "outputs": []
    },
    {
      "cell_type": "code",
      "metadata": {
        "id": "C2hzfukxRwNO"
      },
      "source": [
        "#float(None)"
      ],
      "execution_count": 292,
      "outputs": []
    },
    {
      "cell_type": "code",
      "metadata": {
        "colab": {
          "base_uri": "https://localhost:8080/",
          "height": 0
        },
        "id": "UHS0pSk2RwNO",
        "outputId": "aa386903-c87d-48f7-ed55-f342e23ca38b"
      },
      "source": [
        "str(None)"
      ],
      "execution_count": 293,
      "outputs": [
        {
          "output_type": "execute_result",
          "data": {
            "application/vnd.google.colaboratory.intrinsic+json": {
              "type": "string"
            },
            "text/plain": [
              "'None'"
            ]
          },
          "metadata": {},
          "execution_count": 293
        }
      ]
    },
    {
      "cell_type": "markdown",
      "metadata": {
        "id": "wHwH786QRwNO"
      },
      "source": [
        "# `pass`\n",
        "Esta sentencia no realiza nada. Usualmente se usa durante el desarrollo de un programa, para indicar que un bloque está pendiente de realizar, y así evitar que se genere un error."
      ]
    },
    {
      "cell_type": "code",
      "metadata": {
        "id": "vJ7IvtrsRwNP"
      },
      "source": [
        "def pasos_para_vivir_sin_problemas(nombre):\n",
        "    pass\n",
        "\n",
        "pasos_para_vivir_sin_problemas('yo')"
      ],
      "execution_count": 294,
      "outputs": []
    },
    {
      "cell_type": "code",
      "metadata": {
        "id": "J7hTKFLHRwNP"
      },
      "source": [
        "#def pasos_para_vivir_sin_problemas(nombre):\n",
        "#\n",
        "#pasos_para_vivir_sin_problemas('yo')"
      ],
      "execution_count": 295,
      "outputs": []
    },
    {
      "cell_type": "code",
      "metadata": {
        "id": "64ZFdPx2RwNP"
      },
      "source": [
        ""
      ],
      "execution_count": 295,
      "outputs": []
    },
    {
      "cell_type": "code",
      "metadata": {
        "id": "mxnz2bEqRwNP"
      },
      "source": [
        ""
      ],
      "execution_count": 295,
      "outputs": []
    },
    {
      "cell_type": "code",
      "metadata": {
        "id": "duZfrprvRwNP"
      },
      "source": [
        ""
      ],
      "execution_count": 295,
      "outputs": []
    },
    {
      "cell_type": "code",
      "metadata": {
        "id": "0ic4QafORwNQ"
      },
      "source": [
        ""
      ],
      "execution_count": 295,
      "outputs": []
    },
    {
      "cell_type": "code",
      "metadata": {
        "id": "TzyZomJVRwNQ"
      },
      "source": [
        ""
      ],
      "execution_count": 295,
      "outputs": []
    },
    {
      "cell_type": "markdown",
      "metadata": {
        "id": "l2eBJ0SwRwNQ"
      },
      "source": [
        "# Reto 2\n",
        "Realice una función `promedio` que encuentre el promedio de una tupla o una lista "
      ]
    },
    {
      "cell_type": "markdown",
      "metadata": {
        "id": "-vUnqbp9RwNQ"
      },
      "source": [
        "# Ejemplo de promedio\n",
        "A continuación, haremos dos ejemplos para calcular el promedio \n",
        "\n",
        "$promedio(v)= \\frac{1}{n} \\sum_{i=1}^n v_i$\n",
        "\n",
        "donde $\\vec{v}=\\left(\\matrix{v_1\\\\v_2\\\\ \\vdots \\\\v_n}\\right)$"
      ]
    },
    {
      "cell_type": "code",
      "metadata": {
        "id": "LwureIisRwNQ"
      },
      "source": [
        "def promedio_1(numeros):\n",
        "    acumulador = 0\n",
        "    for numero in numeros:\n",
        "        acumulador = acumulador + numero\n",
        "    return acumulador/len(numeros)"
      ],
      "execution_count": 296,
      "outputs": []
    },
    {
      "cell_type": "code",
      "metadata": {
        "id": "aGZyTQ0xRwNR",
        "outputId": "2ea479ac-7212-4132-889d-4e03caad5a81",
        "colab": {
          "base_uri": "https://localhost:8080/"
        }
      },
      "source": [
        "u"
      ],
      "execution_count": 297,
      "outputs": [
        {
          "output_type": "execute_result",
          "data": {
            "text/plain": [
              "[11, 88, 99, 44]"
            ]
          },
          "metadata": {},
          "execution_count": 297
        }
      ]
    },
    {
      "cell_type": "code",
      "metadata": {
        "id": "cxwzqfHTRwNR",
        "outputId": "4d519713-b695-426c-cea1-4fa8d712d61d",
        "colab": {
          "base_uri": "https://localhost:8080/"
        }
      },
      "source": [
        "promedio_1(u)"
      ],
      "execution_count": 298,
      "outputs": [
        {
          "output_type": "execute_result",
          "data": {
            "text/plain": [
              "60.5"
            ]
          },
          "metadata": {},
          "execution_count": 298
        }
      ]
    },
    {
      "cell_type": "code",
      "metadata": {
        "id": "5qIm7jUpRwNS",
        "outputId": "b19dd774-f077-4e27-fd1c-cb228f1d350c",
        "colab": {
          "base_uri": "https://localhost:8080/"
        }
      },
      "source": [
        "v"
      ],
      "execution_count": 299,
      "outputs": [
        {
          "output_type": "execute_result",
          "data": {
            "text/plain": [
              "(11, 22, 35, 44)"
            ]
          },
          "metadata": {},
          "execution_count": 299
        }
      ]
    },
    {
      "cell_type": "code",
      "metadata": {
        "id": "X32zEfVsRwNS",
        "outputId": "7f4d4b90-c3de-496e-84e2-5181211da8ef",
        "colab": {
          "base_uri": "https://localhost:8080/"
        }
      },
      "source": [
        "promedio_1(v)"
      ],
      "execution_count": 300,
      "outputs": [
        {
          "output_type": "execute_result",
          "data": {
            "text/plain": [
              "28.0"
            ]
          },
          "metadata": {},
          "execution_count": 300
        }
      ]
    },
    {
      "cell_type": "code",
      "metadata": {
        "id": "s7Gn8_xyRwNS"
      },
      "source": [
        "def promedio_2(numeros):\n",
        "    acumulador = 0\n",
        "    for i in range(len(numeros)):\n",
        "        acumulador = acumulador + numeros[i]\n",
        "    return acumulador/len(numeros)"
      ],
      "execution_count": 301,
      "outputs": []
    },
    {
      "cell_type": "code",
      "metadata": {
        "id": "oUBDROI5RwNS",
        "outputId": "42813209-126c-4590-9900-a58ffba14a97",
        "colab": {
          "base_uri": "https://localhost:8080/"
        }
      },
      "source": [
        "u"
      ],
      "execution_count": 302,
      "outputs": [
        {
          "output_type": "execute_result",
          "data": {
            "text/plain": [
              "[11, 88, 99, 44]"
            ]
          },
          "metadata": {},
          "execution_count": 302
        }
      ]
    },
    {
      "cell_type": "code",
      "metadata": {
        "id": "XRyvhQq1RwNS",
        "outputId": "0180655c-b8ad-4188-a51a-6512c4c2398b",
        "colab": {
          "base_uri": "https://localhost:8080/"
        }
      },
      "source": [
        "promedio_2(u)"
      ],
      "execution_count": 303,
      "outputs": [
        {
          "output_type": "execute_result",
          "data": {
            "text/plain": [
              "60.5"
            ]
          },
          "metadata": {},
          "execution_count": 303
        }
      ]
    },
    {
      "cell_type": "code",
      "metadata": {
        "id": "9imI1jBCRwNS",
        "outputId": "02ab89c3-9e12-4fa1-d321-0cbee38e49bb",
        "colab": {
          "base_uri": "https://localhost:8080/"
        }
      },
      "source": [
        "v"
      ],
      "execution_count": 304,
      "outputs": [
        {
          "output_type": "execute_result",
          "data": {
            "text/plain": [
              "(11, 22, 35, 44)"
            ]
          },
          "metadata": {},
          "execution_count": 304
        }
      ]
    },
    {
      "cell_type": "code",
      "metadata": {
        "id": "GvdH1FI-RwNT",
        "outputId": "dcc9cf7f-7c7f-4ee5-b9f0-fe51829a08ae",
        "colab": {
          "base_uri": "https://localhost:8080/"
        }
      },
      "source": [
        "promedio_2(v)"
      ],
      "execution_count": 305,
      "outputs": [
        {
          "output_type": "execute_result",
          "data": {
            "text/plain": [
              "28.0"
            ]
          },
          "metadata": {},
          "execution_count": 305
        }
      ]
    },
    {
      "cell_type": "code",
      "metadata": {
        "id": "BFGMY8ymRwNT"
      },
      "source": [
        ""
      ],
      "execution_count": 305,
      "outputs": []
    },
    {
      "cell_type": "code",
      "metadata": {
        "id": "IR0kNRIuRwNT"
      },
      "source": [
        ""
      ],
      "execution_count": 305,
      "outputs": []
    }
  ]
}